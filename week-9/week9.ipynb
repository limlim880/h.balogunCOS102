{
 "cells": [
  {
   "cell_type": "code",
   "execution_count": null,
   "id": "140bf7b9-766b-4c94-826e-7edb529dc75f",
   "metadata": {},
   "outputs": [],
   "source": []
  }
 ],
 "metadata": {
  "kernelspec": {
   "display_name": "",
   "name": ""
  },
  "language_info": {
   "name": ""
  }
 },
 "nbformat": 4,
 "nbformat_minor": 5
}
